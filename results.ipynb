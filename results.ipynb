{
 "cells": [
  {
   "cell_type": "markdown",
   "metadata": {},
   "source": [
    "Imports necesarios"
   ]
  },
  {
   "cell_type": "code",
   "execution_count": 104,
   "metadata": {},
   "outputs": [],
   "source": [
    "from decimal_binario import *\n",
    "from binario_decimal import *\n",
    "from string_base64 import *\n",
    "from xor_cadenas import *\n",
    "from lector_imagenes import *\n",
    "import matplotlib.pyplot as plt\n",
    "from PIL import Image\n",
    "import numpy as np"
   ]
  },
  {
   "cell_type": "markdown",
   "metadata": {},
   "source": [
    "1. Binario"
   ]
  },
  {
   "cell_type": "code",
   "execution_count": 105,
   "metadata": {},
   "outputs": [
    {
     "name": "stdout",
     "output_type": "stream",
     "text": [
      "Representación ASCII de la cadena: Hola Mundo\n",
      "[72, 111, 108, 97, 32, 77, 117, 110, 100, 111]\n",
      "Representación binaria de la cadena:\n",
      "['01001000', '01101111', '01101100', '01100001', '00100000', '01001101', '01110101', '01101110', '01100100', '01101111']\n",
      "\n",
      "Representación ASCII de la cadena: Adiós\n",
      "[65, 100, 105, 243, 115]\n",
      "Representación binaria de la cadena:\n",
      "['01000001', '01100100', '01101001', '11110011', '01110011']\n"
     ]
    }
   ],
   "source": [
    "cadena = \"Hola Mundo\"\n",
    "\n",
    "# Obteniendo los valores ASCII de los caracteres\n",
    "ascii_resultado = caracteres_a_ascii(cadena)\n",
    "print(f\"Representación ASCII de la cadena: {cadena}\")\n",
    "print(ascii_resultado)\n",
    "\n",
    "# Convertiendo los valores ASCII a su representación binaria manualmente\n",
    "binario_resultado = [ascii_a_binario_manual(valor) for valor in ascii_resultado]\n",
    "print(\"Representación binaria de la cadena:\")\n",
    "print(binario_resultado)\n",
    "\n",
    "print()\n",
    "cadena2 = \"Adiós\"\n",
    "\n",
    "# Obteniendo los valores ASCII de los caracteres\n",
    "ascii_resultado2 = caracteres_a_ascii(cadena2)\n",
    "print(f\"Representación ASCII de la cadena: {cadena2}\")\n",
    "print(ascii_resultado2)\n",
    "\n",
    "# Convertiendo los valores ASCII a su representación binaria manualmente\n",
    "binario_resultado2 = [ascii_a_binario_manual(valor) for valor in ascii_resultado2]\n",
    "print(\"Representación binaria de la cadena:\")\n",
    "print(binario_resultado2)"
   ]
  },
  {
   "cell_type": "markdown",
   "metadata": {},
   "source": [
    "2. Bytes a caracteres"
   ]
  },
  {
   "cell_type": "code",
   "execution_count": 106,
   "metadata": {},
   "outputs": [
    {
     "name": "stdout",
     "output_type": "stream",
     "text": [
      "Representación ASCII de la cadena: Hola Mundo\n",
      "[72, 111, 108, 97, 32, 77, 117, 110, 100, 111]\n",
      "Representación binaria de la cadena:\n",
      "['01001000', '01101111', '01101100', '01100001', '00100000', '01001101', '01110101', '01101110', '01100100', '01101111']\n",
      "Cadena original obtenida de la representación binaria:\n",
      "Hola Mundo\n",
      "\n",
      "Representación ASCII de la cadena: Adiós\n",
      "[65, 100, 105, 243, 115]\n",
      "Representación binaria de la cadena:\n",
      "['01000001', '01100100', '01101001', '11110011', '01110011']\n",
      "Cadena original obtenida de la representación binaria:\n",
      "Adiós\n"
     ]
    }
   ],
   "source": [
    "cadena = \"Hola Mundo\"\n",
    "\n",
    "# Obteniendo los valores ASCII de los caracteres\n",
    "ascii_resultado = caracteres_a_ascii(cadena)\n",
    "print(f\"Representación ASCII de la cadena: {cadena}\")\n",
    "print(ascii_resultado)\n",
    "\n",
    "# Convertiendo los valores ASCII a su representación binaria manualmente\n",
    "binario_resultado = [ascii_a_binario_manual(valor) for valor in ascii_resultado]\n",
    "print(\"Representación binaria de la cadena:\")\n",
    "print(binario_resultado)\n",
    "\n",
    "# Convertiendo la representación binaria a la cadena original\n",
    "cadena_original = binario_a_cadena(''.join(binario_resultado))\n",
    "print(\"Cadena original obtenida de la representación binaria:\")\n",
    "print(cadena_original)\n",
    "\n",
    "print()\n",
    "cadena2 = \"Adiós\"\n",
    "\n",
    "# Obteniendo los valores ASCII de los caracteres\n",
    "ascii_resultado2 = caracteres_a_ascii(cadena2)\n",
    "print(f\"Representación ASCII de la cadena: {cadena2}\")\n",
    "print(ascii_resultado2)\n",
    "\n",
    "# Convertiendo los valores ASCII a su representación binaria manualmente\n",
    "binario_resultado2 = [ascii_a_binario_manual(valor) for valor in ascii_resultado2]\n",
    "print(\"Representación binaria de la cadena:\")\n",
    "print(binario_resultado2)\n",
    "\n",
    "# Convertiendo la representación binaria a la cadena original\n",
    "cadena_original2 = binario_a_cadena(''.join(binario_resultado2))\n",
    "print(\"Cadena original obtenida de la representación binaria:\")\n",
    "print(cadena_original2)"
   ]
  },
  {
   "cell_type": "markdown",
   "metadata": {},
   "source": [
    "3. Conversión de string a base64"
   ]
  },
  {
   "cell_type": "code",
   "execution_count": 107,
   "metadata": {},
   "outputs": [
    {
     "name": "stdout",
     "output_type": "stream",
     "text": [
      "Representación ASCII de la cadena: Hola Mundo\n",
      "[72, 111, 108, 97, 32, 77, 117, 110, 100, 111]\n",
      "Representación binaria de la cadena:\n",
      "['01001000', '01101111', '01101100', '01100001', '00100000', '01001101', '01110101', '01101110', '01100100', '01101111']\n",
      "Representación base 64 de la cadena:\n",
      "BIb2xhIE11bmRv==\n",
      "\n",
      "Representación ASCII de la cadena: Adiós\n",
      "[65, 100, 105, 243, 115]\n",
      "Representación binaria de la cadena:\n",
      "['01000001', '01100100', '01101001', '11110011', '01110011']\n",
      "Representación base 64 de la cadena:\n",
      "BIb2xhIE11bmRv==\n"
     ]
    }
   ],
   "source": [
    "cadena = \"Hola Mundo\"\n",
    "\n",
    "# Obteniendo los valores ASCII de los caracteres\n",
    "ascii_resultado = caracteres_a_ascii(cadena)\n",
    "print(f\"Representación ASCII de la cadena: {cadena}\")\n",
    "print(ascii_resultado)\n",
    "\n",
    "# Convertiendo los valores ASCII a su representación binaria manualmente\n",
    "binario_resultado = [ascii_a_binario_manual(valor) for valor in ascii_resultado]\n",
    "print(\"Representación binaria de la cadena:\")\n",
    "print(binario_resultado)\n",
    "\n",
    "base64 = bin_to_base64(binario_resultado)\n",
    "print(\"Representación base 64 de la cadena:\")\n",
    "print(base64)\n",
    "\n",
    "print()\n",
    "cadena2 = \"Adiós\"\n",
    "\n",
    "# Obteniendo los valores ASCII de los caracteres\n",
    "ascii_resultado2 = caracteres_a_ascii(cadena2)\n",
    "print(f\"Representación ASCII de la cadena: {cadena2}\")\n",
    "print(ascii_resultado2)\n",
    "\n",
    "# Convertiendo los valores ASCII a su representación binaria manualmente\n",
    "binario_resultado2 = [ascii_a_binario_manual(valor) for valor in ascii_resultado2]\n",
    "print(\"Representación binaria de la cadena:\")\n",
    "print(binario_resultado2)\n",
    "\n",
    "base642 = bin_to_base64(binario_resultado2)\n",
    "print(\"Representación base 64 de la cadena:\")\n",
    "print(base64)"
   ]
  },
  {
   "cell_type": "markdown",
   "metadata": {},
   "source": [
    "4. Base64 a string"
   ]
  },
  {
   "cell_type": "code",
   "execution_count": 108,
   "metadata": {},
   "outputs": [
    {
     "name": "stdout",
     "output_type": "stream",
     "text": [
      "Representación ASCII de la cadena:\n",
      "\u0000Hola Mundo\n",
      "Representación ASCII de la cadena:\n",
      "\u0000Adiós\n"
     ]
    }
   ],
   "source": [
    "string = base64_to_ascii(base64)\n",
    "print(\"Representación ASCII de la cadena:\")\n",
    "print(string)\n",
    "\n",
    "string2 = base64_to_ascii(base642)\n",
    "print(\"Representación ASCII de la cadena:\")\n",
    "print(string2)"
   ]
  },
  {
   "cell_type": "markdown",
   "metadata": {},
   "source": [
    "5. Operación de XOR"
   ]
  },
  {
   "cell_type": "code",
   "execution_count": 109,
   "metadata": {},
   "outputs": [
    {
     "name": "stdout",
     "output_type": "stream",
     "text": [
      "Representación binaria de la cadena:\n",
      "['01001000', '01101111', '01101100', '01100001', '01110011']\n",
      "\n",
      "Representación binaria de la cadena:\n",
      "['01000001', '01100100', '01101001', '11110011', '01110011']\n",
      "\n",
      "Resultado de la operación XOR:\n",
      "['00001001', '00001011', '00000101', '10010010', '00000000']\n"
     ]
    }
   ],
   "source": [
    "# Texto\n",
    "cadena = \"Holas\"\n",
    "\n",
    "# Clave\n",
    "cadena2 = \"Adiós\"\n",
    "\n",
    "# Obteniendo los valores ASCII de los caracteres\n",
    "ascii_resultado = caracteres_a_ascii(cadena)\n",
    "\n",
    "# Convertiendo los valores ASCII a su representación binaria manualmente\n",
    "binario_resultado = [ascii_a_binario_manual(valor) for valor in ascii_resultado]\n",
    "print(\"Representación binaria de la cadena:\")\n",
    "print(binario_resultado)\n",
    "print()\n",
    "\n",
    "ascii_resultado2 = caracteres_a_ascii(cadena2)\n",
    "\n",
    "# Convertiendo los valores ASCII a su representación binaria manualmente\n",
    "binario_resultado2 = [ascii_a_binario_manual(valor) for valor in ascii_resultado2]\n",
    "print(\"Representación binaria de la cadena:\")\n",
    "print(binario_resultado2)\n",
    "print()\n",
    "\n",
    " # Realizando la operación XOR\n",
    "resultado_xor = xor_cadenas(binario_resultado, binario_resultado2)\n",
    "print(\"Resultado de la operación XOR:\")\n",
    "print(resultado_xor)"
   ]
  },
  {
   "cell_type": "markdown",
   "metadata": {},
   "source": [
    "6. Restaurando la imagen"
   ]
  },
  {
   "cell_type": "code",
   "execution_count": 110,
   "metadata": {},
   "outputs": [],
   "source": [
    "# Leyendo la imagen en bits.\n",
    "\n",
    "ruta_imagen = \"imagen_xor.png\"\n",
    "contenido_imagen = leer_imagen(ruta_imagen)\n",
    "\n",
    "# Clave\n",
    "\n",
    "llave = \"cifrados\"\n",
    "\n",
    "llave_ascii = caracteres_a_ascii(llave)\n",
    "\n",
    "llave_binaria = [ascii_a_binario_manual(valor) for valor in llave_ascii]\n",
    "\n",
    "#print(llave_binaria)\n",
    "\n",
    "resultado_xor_foto = xor_cadenas(contenido_imagen, llave_binaria)\n",
    "\n",
    "with open(\"imagen_xor_descifrada.png\", \"wb\") as f:\n",
    "    for byte in resultado_xor_foto:\n",
    "        f.write(int(byte, 2).to_bytes(1, byteorder=\"big\"))"
   ]
  },
  {
   "cell_type": "markdown",
   "metadata": {},
   "source": [
    "7. Investigar porque al aplicar XOR con una llave de texto la imagen se corrompe."
   ]
  },
  {
   "cell_type": "markdown",
   "metadata": {},
   "source": [
    "La imagen da la impresión de que se corrompe, puesto que al aplicar XOR a la misma, existe una mezcla de bits entre los bits de la imagen y los bits de la clave. Por lo tanto, aunque la imagen parezca estar corrupla luego de aplicar el XOR con una llave textual, en realidad lo que se tiene es una imagen cifrada y que se puede descifrar con la clave original. Sin embargo, si se llegara a perder la clave, ya no existe forma de descifrar la imagen y, por lo tanto, la imagen aparenta estar corrupta."
   ]
  },
  {
   "cell_type": "markdown",
   "metadata": {},
   "source": [
    "8. Investigar como aplicar un xor a 2 imagnes. Para esto deben de eleccionar 2 imágenes, luego proceder hacer un xor entre las dos imágenes. Esto significa que una imagen es la  original y la otra se utilizará como llave para aplicar el xor. "
   ]
  },
  {
   "cell_type": "code",
   "execution_count": 111,
   "metadata": {},
   "outputs": [],
   "source": [
    "img1 = Image.open('imagen1.png')\n",
    "img2 = Image.open('imagen2.png')\n",
    "\n",
    "# Convirtiendo las imágenes a arrays de numpy\n",
    "arr1 = np.array(img1)\n",
    "arr2 = np.array(img2)\n",
    "\n",
    "# Aplicando la operación XOR a los píxeles de las imágenes\n",
    "xor_result = np.bitwise_xor(arr1, arr2)\n",
    "\n",
    "# Convirtiendo el resultado a una imagen\n",
    "img_xor = Image.fromarray(xor_result.astype(np.uint8))\n",
    "\n",
    "img_xor.save('imagen_xor_mezclada.png')"
   ]
  },
  {
   "cell_type": "code",
   "execution_count": 112,
   "metadata": {},
   "outputs": [],
   "source": [
    "# from PIL import Image\n",
    "# import numpy as np\n",
    "# import io\n",
    "# import base64\n",
    "\n",
    "# # Leyendo las dos imágenes\n",
    "# ruta_imagen = \"imagen2.png\"\n",
    "# contenido_imagen = leer_imagen(ruta_imagen)\n",
    "\n",
    "# ruta_imagen2 = \"imagen1.png\"\n",
    "# contenido_imagen2 = leer_imagen(ruta_imagen2)\n",
    "\n",
    "# resultado_xor_fotos = xor_cadenas(contenido_imagen, contenido_imagen2)\n",
    "\n",
    "# base64_string = bin_to_base64(resultado_xor_fotos)\n",
    "\n",
    "# def base64_to_imagen(base64_string):\n",
    "#     # Decodificando la cadena base64 a bytes\n",
    "#     imagen_bytes = base64.b64decode(base64_string)\n",
    "\n",
    "#     # Convirtiendo los bytes a una imagen utilizando PIL\n",
    "#     imagen = Image.open(io.BytesIO(imagen_bytes))\n",
    "\n",
    "#     return imagen\n",
    "\n",
    "# imagen = base64_to_imagen(base64_string)\n",
    "\n",
    "# imagen.show()"
   ]
  },
  {
   "cell_type": "markdown",
   "metadata": {},
   "source": [
    "9. Dada una cadena de bits X (por ejemplo, una que proviene de convertir un texto a bits).\n",
    "- Calcular la distribución de probabilidad de ocurrencia sus bits ’0’ y ’1’, y mostrarlo en un histograma. ¿Son iguales?\n",
    "- Repetir lo mismo para los bigramas ’00’, ’01’, ’10’, ’11’\n",
    "- Repetir para los trigramas ’000’, ’001’, ’010’, ’011’, ’100’, ’101’, ’110’, ’111’.\n",
    "- ¿Qué ocurre con la distribución de probabilidades?"
   ]
  },
  {
   "cell_type": "code",
   "execution_count": 113,
   "metadata": {},
   "outputs": [],
   "source": [
    "def calcular_distribucion(bits, n):\n",
    "    \n",
    "    bits = ''.join(bits)\n",
    "    \n",
    "    # Creando todas las posibles combinaciones de n bits\n",
    "    combinaciones = [bin(i)[2:].zfill(n) for i in range(2**n)]\n",
    "    \n",
    "    # Inicializando un diccionario para almacenar las frecuencias\n",
    "    frecuencias = {combinacion: 0 for combinacion in combinaciones}\n",
    "    \n",
    "    # Contando las ocurrencias de cada combinación en la cadena de bits\n",
    "    for i in range(len(bits) - n + 1):\n",
    "        frecuencias[bits[i:i+n]] += 1\n",
    "    \n",
    "    # Calculando la distribución de probabilidad\n",
    "    total = sum(frecuencias.values())\n",
    "    distribucion = {combinacion: frecuencia / total for combinacion, frecuencia in frecuencias.items()}\n",
    "    \n",
    "    return distribucion"
   ]
  },
  {
   "cell_type": "code",
   "execution_count": 114,
   "metadata": {},
   "outputs": [],
   "source": [
    "def dibujar_histograma(distribucion):\n",
    "    fig, ax = plt.subplots()\n",
    "    \n",
    "    etiquetas = list(distribucion.keys())\n",
    "    probabilidades = list(distribucion.values())\n",
    "    \n",
    "    ax.bar(etiquetas, probabilidades)\n",
    "    \n",
    "    ax.set_xlabel('Combinaciones')\n",
    "    ax.set_ylabel('Probabilidad')\n",
    "    \n",
    "    plt.show()"
   ]
  },
  {
   "cell_type": "code",
   "execution_count": 115,
   "metadata": {},
   "outputs": [
    {
     "name": "stdout",
     "output_type": "stream",
     "text": [
      "['01001100', '01100001', '00100000', '01101100', '01100101', '01100011', '01110100', '01110101', '01110010', '01100001', '00100000', '01101110', '01101111', '01110011', '00100000', '01110000', '01100101', '01110010', '01101101', '01101001', '01110100', '01100101', '00100000', '01100001', '01100100', '01110001', '01110101', '01101001', '01110010', '01101001', '01110010', '00100000', '01101110', '01110101', '01100101', '01110110', '01101111', '01110011', '00100000', '01100011', '01101111', '01101110', '01101111', '01100011', '01101001', '01101101', '01101001', '01100101', '01101110', '01110100', '01101111', '01110011', '00101110', '00100000', '01001100', '01101111', '01110011', '00100000', '01101100', '01101001', '01100010', '01110010', '01101111', '01110011', '00101100', '00100000', '01100001', '01110010', '01110100', '11101101', '01100011', '01110101', '01101100', '01101111', '01110011', '00100000', '01111001', '00100000', '01110100', '01100101', '01111000', '01110100', '01101111', '01110011', '00100000', '01100101', '01101110', '00100000', '01101100', '11101101', '01101110', '01100101', '01100001', '00100000', '01110011', '01101111', '01101110', '00100000', '01100110', '01110101', '01100101', '01101110', '01110100', '01100101', '01110011', '00100000', '01110010', '01101001', '01100011', '01100001', '01110011', '00100000', '01100100', '01100101', '00100000', '01101001', '01101110', '01100110', '01101111', '01110010', '01101101', '01100001', '01100011', '01101001', '11110011', '01101110', '00100000', '01110011', '01101111', '01100010', '01110010', '01100101', '00100000', '01110101', '01101110', '01100001', '00100000', '01100001', '01101101', '01110000', '01101100', '01101001', '01100001', '00100000', '01110110', '01100001', '01110010', '01101001', '01100101', '01100100', '01100001', '01100100', '00100000', '01100100', '01100101', '00100000', '01110100', '01100101', '01101101', '01100001', '01110011', '00101110', '00100000', '01011001', '01100001', '00100000', '01110011', '01100101', '01100001', '00100000', '01110001', '01110101', '01100101', '00100000', '01100101', '01110011', '01110100', '01100101', '01101101', '01101111', '01110011', '00100000', '01101001', '01101110', '01110100', '01100101', '01110010', '01100101', '01110011', '01100001', '01100100', '01101111', '01110011', '00100000', '01100101', '01101110', '00100000', '01101100', '01100001', '00100000', '01101000', '01101001', '01110011', '01110100', '01101111', '01110010', '01101001', '01100001', '00101100', '00100000', '01101100', '01100001', '00100000', '01100011', '01101001', '01100101', '01101110', '01100011', '01101001', '01100001', '00101100', '00100000', '01101100', '01100001', '00100000', '01101100', '01101001', '01110100', '01100101', '01110010', '01100001', '01110100', '01110101', '01110010', '01100001', '00100000', '01101111', '00100000', '01100011', '01110101', '01100001', '01101100', '01110001', '01110101', '01101001', '01100101', '01110010', '00100000', '01101111', '01110100', '01110010', '01101111', '00100000', '01110100', '01100101', '01101101', '01100001', '00101100', '00100000', '01101100', '01100001', '00100000', '01101100', '01100101', '01100011', '01110100', '01110101', '01110010', '01100001', '00100000', '01101110', '01101111', '01110011', '00100000', '01110000', '01100101', '01110010', '01101101', '01101001', '01110100', '01100101', '00100000', '01100101', '01111000', '01110000', '01101100', '01101111', '01110010', '01100001', '01110010', '00100000', '01100101', '01110011', '01110100', '01101111', '01110011', '00100000', '01100011', '01100001', '01101101', '01110000', '01101111', '01110011', '00100000', '01100101', '01101110', '00100000', '01110000', '01110010', '01101111', '01100110', '01110101', '01101110', '01100100', '01101001', '01100100', '01100001', '01100100', '00101110']\n"
     ]
    }
   ],
   "source": [
    "texto = \"La lectura nos permite adquirir nuevos conocimientos. Los libros, artículos y textos en línea son fuentes ricas de información sobre una amplia variedad de temas. Ya sea que estemos interesados en la historia, la ciencia, la literatura o cualquier otro tema, la lectura nos permite explorar estos campos en profundidad.\"\n",
    "\n",
    "ascii_resultado = caracteres_a_ascii(texto)\n",
    "\n",
    "binario_resultado = [ascii_a_binario_manual(valor) for valor in ascii_resultado]\n",
    "\n",
    "print(binario_resultado)"
   ]
  },
  {
   "cell_type": "code",
   "execution_count": 116,
   "metadata": {},
   "outputs": [
    {
     "data": {
      "image/png": "[encoded data removed]",
      "text/plain": [
       "<Figure size 640x480 with 1 Axes>"
      ]
     },
     "metadata": {},
     "output_type": "display_data"
    }
   ],
   "source": [
    "distribrucion = calcular_distribucion(binario_resultado, 1)\n",
    "\n",
    "dibujar_histograma(distribrucion)"
   ]
  },
  {
   "cell_type": "markdown",
   "metadata": {},
   "source": [
    "No son iguales, ya que, para este caso, hubo más cantidad de cero que de unos."
   ]
  },
  {
   "cell_type": "code",
   "execution_count": 117,
   "metadata": {},
   "outputs": [
    {
     "data": {
      "image/png": "[encoded data removed]",
      "text/plain": [
       "<Figure size 640x480 with 1 Axes>"
      ]
     },
     "metadata": {},
     "output_type": "display_data"
    }
   ],
   "source": [
    "distribrucion = calcular_distribucion(binario_resultado, 2)\n",
    "dibujar_histograma(distribrucion)"
   ]
  },
  {
   "cell_type": "code",
   "execution_count": 118,
   "metadata": {},
   "outputs": [
    {
     "data": {
      "image/png": "[encoded data removed]",
      "text/plain": [
       "<Figure size 640x480 with 1 Axes>"
      ]
     },
     "metadata": {},
     "output_type": "display_data"
    }
   ],
   "source": [
    "distribrucion = calcular_distribucion(binario_resultado, 3)\n",
    "dibujar_histograma(distribrucion)"
   ]
  },
  {
   "cell_type": "markdown",
   "metadata": {},
   "source": [
    "Se puede notar que las distribuciones de probabilidad varían bastante cuando se calculan los bigramas y trigramas. Lo anterior se debe a que se está evaluando la probabilidad de la aparición de secuencias binarias de dos y tres dígitos. El resultado de la probabilidad de ocurrencia de estas secuencias puede aumentar o disminuir significativamente."
   ]
  }
 ],
 "metadata": {
  "kernelspec": {
   "display_name": "Python 3",
   "language": "python",
   "name": "python3"
  },
  "language_info": {
   "codemirror_mode": {
    "name": "ipython",
    "version": 3
   },
   "file_extension": ".py",
   "mimetype": "text/x-python",
   "name": "python",
   "nbconvert_exporter": "python",
   "pygments_lexer": "ipython3",
   "version": "3.11.3"
  }
 },
 "nbformat": 4,
 "nbformat_minor": 2
}
